{
 "cells": [
  {
   "cell_type": "code",
   "execution_count": 18,
   "metadata": {},
   "outputs": [
    {
     "name": "stderr",
     "output_type": "stream",
     "text": [
      "\n",
      "\u001b[AC:\\Users\\lzhen\\AppData\\Local\\Temp\\ipykernel_27324\\333108558.py:6: RuntimeWarning: overflow encountered in scalar add\n",
      "  return(f(3) + f(5) - f(15))\n",
      "C:\\Users\\lzhen\\AppData\\Local\\Temp\\ipykernel_27324\\333108558.py:18: RuntimeWarning: overflow encountered in scalar multiply\n",
      "  ele+=int(15*7*(0+k-1)*(k)/2)\n",
      " 10%|█         | 1/10 [00:00<00:00, 997.93it/s]\n"
     ]
    },
    {
     "ename": "AssertionError",
     "evalue": "Error: 111112 -1414236842 733246806",
     "output_type": "error",
     "traceback": [
      "\u001b[1;31m---------------------------------------------------------------------------\u001b[0m",
      "\u001b[1;31mAssertionError\u001b[0m                            Traceback (most recent call last)",
      "Cell \u001b[1;32mIn[18], line 28\u001b[0m\n\u001b[0;32m     26\u001b[0m ans1\u001b[39m=\u001b[39msol1(N)\n\u001b[0;32m     27\u001b[0m ans2\u001b[39m=\u001b[39msol2(N)\n\u001b[1;32m---> 28\u001b[0m \u001b[39massert\u001b[39;00m ans1\u001b[39m==\u001b[39mans2, \u001b[39m\"\u001b[39m\u001b[39mError: \u001b[39m\u001b[39m\"\u001b[39m\u001b[39m+\u001b[39m\u001b[39mstr\u001b[39m(N)\u001b[39m+\u001b[39m\u001b[39m\"\u001b[39m\u001b[39m \u001b[39m\u001b[39m\"\u001b[39m\u001b[39m+\u001b[39m\u001b[39mstr\u001b[39m(ans1)\u001b[39m+\u001b[39m\u001b[39m\"\u001b[39m\u001b[39m \u001b[39m\u001b[39m\"\u001b[39m\u001b[39m+\u001b[39m\u001b[39mstr\u001b[39m(ans2)\n",
      "\u001b[1;31mAssertionError\u001b[0m: Error: 111112 -1414236842 733246806"
     ]
    }
   ],
   "source": [
    "from tqdm.auto import tqdm\n",
    "import numpy as np\n",
    "\n",
    "def sol1(n):\n",
    "    f = lambda a : a * (((n-1) // a) * (((n-1) // a ) + 1) // 2)\n",
    "    return(f(3) + f(5) - f(15)) \n",
    "\n",
    "def sol2(n):\n",
    "    # if n<=3: \n",
    "    #     return(0)\n",
    "        \n",
    "    # if n<=5:\n",
    "    #     return(3)\n",
    "        \n",
    "    ele=0\n",
    "    k=n//15\n",
    "    ele+=45*(k)\n",
    "    ele+=int(15*7*(0+k-1)*(k)/2)\n",
    "    for i in range(15*k,n):\n",
    "        if i%3==0 or i%5==0:\n",
    "            ele+=i\n",
    "    return(ele)\n",
    "\n",
    "L_range=np.linspace(1,1000000,10).astype(int)\n",
    "for N in tqdm(L_range):\n",
    "    ans1=sol1(N)\n",
    "    ans2=sol2(N)\n",
    "    assert ans1==ans2, \"Error: \"+str(N)+\" \"+str(ans1)+\" \"+str(ans2)\n",
    "    "
   ]
  },
  {
   "cell_type": "code",
   "execution_count": null,
   "metadata": {},
   "outputs": [],
   "source": []
  }
 ],
 "metadata": {
  "kernelspec": {
   "display_name": "base",
   "language": "python",
   "name": "python3"
  },
  "language_info": {
   "codemirror_mode": {
    "name": "ipython",
    "version": 3
   },
   "file_extension": ".py",
   "mimetype": "text/x-python",
   "name": "python",
   "nbconvert_exporter": "python",
   "pygments_lexer": "ipython3",
   "version": "3.10.9"
  },
  "orig_nbformat": 4,
  "vscode": {
   "interpreter": {
    "hash": "f38781705ea4a68e1fdcb177f45b648a55798d4ff7cbc57da71b8f16af52a55a"
   }
  }
 },
 "nbformat": 4,
 "nbformat_minor": 2
}

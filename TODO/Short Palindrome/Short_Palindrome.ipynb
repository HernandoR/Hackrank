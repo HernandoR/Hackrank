{
 "cells": [
  {
   "cell_type": "code",
   "execution_count": null,
   "metadata": {},
   "outputs": [],
   "source": [
    "#!/bin/python3\n",
    "\n",
    "import math\n",
    "import os\n",
    "import random\n",
    "import re\n",
    "import sys\n",
    "\n",
    "#\n",
    "# Complete the 'shortPalindrome' function below.\n",
    "#\n",
    "# The function is expected to return an INTEGER.\n",
    "# The function accepts STRING s as parameter.\n",
    "#\n",
    "\n",
    "def shortPalindrome(s):\n",
    "    # Write your code here\n",
    "    Num_s=map(lambda x : ord(x)-ord('a'),s)\n",
    "    Rev_cnt=[[0]*26 for _ in range(26)]\n",
    "    \n",
    "\n",
    "if __name__ == '__main__':\n",
    "    fptr = open(os.environ['OUTPUT_PATH'], 'w')\n",
    "\n",
    "    s = input()\n",
    "\n",
    "    result = shortPalindrome(s)\n",
    "\n",
    "    fptr.write(str(result) + '\\n')\n",
    "\n",
    "    fptr.close()\n"
   ]
  },
  {
   "cell_type": "code",
   "execution_count": null,
   "metadata": {},
   "outputs": [],
   "source": [
    "function shortPalindrome(s) {\n",
    "    const seenCount = Array(26).fill(0)\n",
    "    const count = Array(26).fill(0)\n",
    "    const xyCount = Array(26 * 26).fill(0) // 2D Array equivalent\n",
    "    \n",
    "    let totalCount = 0\n",
    "    \n",
    "    for (const k of s) {\n",
    "        const X = k.charCodeAt(0) - 'a'.charCodeAt(0)\n",
    "        let XY = X\n",
    "        \n",
    "        totalCount += count[X]\n",
    "        \n",
    "        for (let Y = 0; Y < 26; Y++) {\n",
    "            count[Y] += xyCount[XY]\n",
    "            xyCount[XY] += seenCount[Y]\n",
    "            XY += 26\n",
    "        }\n",
    "        \n",
    "        seenCount[X]++\n",
    "    }\n",
    "    return totalCount\n",
    "}"
   ]
  }
 ],
 "metadata": {
  "kernelspec": {
   "display_name": "base",
   "language": "python",
   "name": "python3"
  },
  "language_info": {
   "name": "python",
   "version": "3.10.9"
  },
  "orig_nbformat": 4,
  "vscode": {
   "interpreter": {
    "hash": "f38781705ea4a68e1fdcb177f45b648a55798d4ff7cbc57da71b8f16af52a55a"
   }
  }
 },
 "nbformat": 4,
 "nbformat_minor": 2
}

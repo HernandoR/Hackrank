{
 "cells": [
  {
   "cell_type": "code",
   "execution_count": 3,
   "metadata": {},
   "outputs": [],
   "source": [
    "# solution\n",
    "#!/bin/python3\n",
    "\n",
    "import math\n",
    "import os\n",
    "import random\n",
    "import re\n",
    "import sys\n",
    "\n",
    "#\n",
    "# Complete the 'solve' function below.\n",
    "#\n",
    "# The function is expected to return an INTEGER.\n",
    "# The function accepts following parameters:\n",
    "#  1. INTEGER n\n",
    "#  2. INTEGER m\n",
    "#\n",
    "\n",
    "def solve(n, m):\n",
    "    n,m=min(n,m),max(n,m)\n",
    "    if n == 0:\n",
    "        return 1\n",
    "    \n",
    "    Mod=int(10**9+7)\n",
    "\n",
    "    \n",
    "    # Write your code here\n",
    "    def fact(n):\n",
    "        \"\"\" calcule n! mod MOD \"\"\"\n",
    "        f = 1\n",
    "        for i in range(2, n + 1):\n",
    "            f = (f * i) % Mod\n",
    "        return f\n",
    "    \n",
    "    def qpower(x,y):\n",
    "        x%=Mod\n",
    "        res=1\n",
    "        while y:\n",
    "            if y%2 ==1:\n",
    "                res *=x\n",
    "                res %= Mod\n",
    "            y>>=1\n",
    "            x*=(x%Mod)\n",
    "            x%=Mod\n",
    "        return res\n",
    "        \n",
    "    def comb(N,M):\n",
    "        N,M=min(N,M),max(N,M)\n",
    "        f=fact\n",
    "        a=f(M)%Mod\n",
    "        b=f(N)%Mod\n",
    "        c=f(M-N)%Mod\n",
    "        return a*qpower(a*b,Mod-2)*Mod\n",
    "    \n",
    "    return comb(n-1,n+m-2)\n",
    "\n",
    "def run():\n",
    "    fptr = open('output.txt', 'w')\n",
    "\n",
    "    t = int(input().strip())\n",
    "\n",
    "    for t_itr in range(t):\n",
    "        first_multiple_input = input().rstrip().split()\n",
    "\n",
    "        n = int(first_multiple_input[0])\n",
    "\n",
    "        m = int(first_multiple_input[1])\n",
    "\n",
    "        result = solve(n, m)\n",
    "\n",
    "        fptr.write(str(result) + '\\n')\n",
    "\n",
    "    fptr.close()\n"
   ]
  },
  {
   "cell_type": "code",
   "execution_count": 6,
   "metadata": {},
   "outputs": [
    {
     "ename": "ValueError",
     "evalue": "invalid literal for int() with base 10: ''",
     "output_type": "error",
     "traceback": [
      "\u001b[1;31m---------------------------------------------------------------------------\u001b[0m",
      "\u001b[1;31mValueError\u001b[0m                                Traceback (most recent call last)",
      "Cell \u001b[1;32mIn[6], line 7\u001b[0m\n\u001b[0;32m      1\u001b[0m \u001b[39m# test Block\u001b[39;00m\n\u001b[0;32m      2\u001b[0m \n\u001b[0;32m      3\u001b[0m \n\u001b[0;32m      4\u001b[0m \u001b[39m# input stream redirection\u001b[39;00m\n\u001b[0;32m      5\u001b[0m sys\u001b[39m.\u001b[39mstdin \u001b[39m=\u001b[39m \u001b[39mopen\u001b[39m(\u001b[39m'\u001b[39m\u001b[39minput.txt\u001b[39m\u001b[39m'\u001b[39m, \u001b[39m'\u001b[39m\u001b[39mr\u001b[39m\u001b[39m'\u001b[39m)\n\u001b[1;32m----> 7\u001b[0m run()\n\u001b[0;32m      9\u001b[0m \u001b[39m# compare each line of output with expected output\u001b[39;00m\n\u001b[0;32m     10\u001b[0m \u001b[39mwith\u001b[39;00m \u001b[39mopen\u001b[39m(\u001b[39m'\u001b[39m\u001b[39moutput.txt\u001b[39m\u001b[39m'\u001b[39m, \u001b[39m'\u001b[39m\u001b[39mr\u001b[39m\u001b[39m'\u001b[39m) \u001b[39mas\u001b[39;00m f:\n",
      "Cell \u001b[1;32mIn[3], line 61\u001b[0m, in \u001b[0;36mrun\u001b[1;34m()\u001b[0m\n\u001b[0;32m     58\u001b[0m \u001b[39mdef\u001b[39;00m \u001b[39mrun\u001b[39m():\n\u001b[0;32m     59\u001b[0m     fptr \u001b[39m=\u001b[39m \u001b[39mopen\u001b[39m(\u001b[39m'\u001b[39m\u001b[39moutput.txt\u001b[39m\u001b[39m'\u001b[39m, \u001b[39m'\u001b[39m\u001b[39mw\u001b[39m\u001b[39m'\u001b[39m)\n\u001b[1;32m---> 61\u001b[0m     t \u001b[39m=\u001b[39m \u001b[39mint\u001b[39;49m(\u001b[39minput\u001b[39;49m()\u001b[39m.\u001b[39;49mstrip())\n\u001b[0;32m     63\u001b[0m     \u001b[39mfor\u001b[39;00m t_itr \u001b[39min\u001b[39;00m \u001b[39mrange\u001b[39m(t):\n\u001b[0;32m     64\u001b[0m         first_multiple_input \u001b[39m=\u001b[39m \u001b[39minput\u001b[39m()\u001b[39m.\u001b[39mrstrip()\u001b[39m.\u001b[39msplit()\n",
      "\u001b[1;31mValueError\u001b[0m: invalid literal for int() with base 10: ''"
     ]
    }
   ],
   "source": [
    "# test Block\n",
    "\n",
    "\n",
    "# input stream redirection\n",
    "sys.stdin = open('input.txt', 'r')\n",
    "\n",
    "run()\n",
    "\n",
    "# compare each line of output with expected output\n",
    "with open('output.txt', 'r') as f:\n",
    "    with open('ExpectedOutput.txt', 'r') as f1:\n",
    "        for line, line1 in zip(f, f1):\n",
    "            assert line == line1\n",
    "\n"
   ]
  }
 ],
 "metadata": {
  "kernelspec": {
   "display_name": "base",
   "language": "python",
   "name": "python3"
  },
  "language_info": {
   "codemirror_mode": {
    "name": "ipython",
    "version": 3
   },
   "file_extension": ".py",
   "mimetype": "text/x-python",
   "name": "python",
   "nbconvert_exporter": "python",
   "pygments_lexer": "ipython3",
   "version": "3.9.16"
  },
  "orig_nbformat": 4,
  "vscode": {
   "interpreter": {
    "hash": "f38781705ea4a68e1fdcb177f45b648a55798d4ff7cbc57da71b8f16af52a55a"
   }
  }
 },
 "nbformat": 4,
 "nbformat_minor": 2
}

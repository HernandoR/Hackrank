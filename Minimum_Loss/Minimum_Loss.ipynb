{
 "cells": [
  {
   "cell_type": "code",
   "execution_count": 9,
   "metadata": {},
   "outputs": [],
   "source": [
    "import math\n",
    "import os\n",
    "import random\n",
    "import re\n",
    "import sys\n",
    "from objprint import objprint\n",
    "\n",
    "print= objprint\n",
    "\n",
    "from itertools import tee\n",
    "from operator import itemgetter\n",
    "\n",
    "def minimumLoss(price):\n",
    "    price = enumerate(price)\n",
    "    print(\"after enumerate\",price)\n",
    "    price = sorted(price, key=itemgetter(1))\n",
    "    print(\"sorted\",price)\n",
    "\n",
    "    a, b = tee(price)\n",
    "    print(\"tee\",a,b)\n",
    "    next(b)\n",
    "    print(\"next\",b)\n",
    "    pairs = zip(a, b)\n",
    "    print(\"zip\",pairs)\n",
    "    for a, b in pairs:\n",
    "        print(\"for\",a,b)\n",
    "\n",
    "    return min(b[1] - a[1] for a, b in pairs if a[0] > b[0])"
   ]
  },
  {
   "cell_type": "code",
   "execution_count": null,
   "metadata": {},
   "outputs": [],
   "source": []
  },
  {
   "cell_type": "code",
   "execution_count": 10,
   "metadata": {},
   "outputs": [
    {
     "name": "stdout",
     "output_type": "stream",
     "text": [
      "'after enumerate'\n",
      "\u001b[36m<enumerate 0x1d4c2da8bc0\u001b[39m\u001b[36m>\u001b[39m\n",
      "'sorted'\n",
      "[(2, 3), (0, 5), (1, 10)]\n",
      "'tee'\n",
      "\u001b[36m<_tee 0x1d4c2da8bc0\u001b[39m\u001b[36m>\u001b[39m\n",
      "\u001b[36m<_tee 0x1d4c4180a40\u001b[39m\u001b[36m>\u001b[39m\n",
      "'next'\n",
      "\u001b[36m<_tee 0x1d4c4180a40\u001b[39m\u001b[36m>\u001b[39m\n",
      "'zip'\n",
      "\u001b[36m<zip 0x1d4c2da6f80\u001b[39m\u001b[36m>\u001b[39m\n",
      "'for'\n",
      "(2, 3)\n",
      "(0, 5)\n",
      "'for'\n",
      "(0, 5)\n",
      "(1, 10)\n"
     ]
    },
    {
     "ename": "ValueError",
     "evalue": "min() arg is an empty sequence",
     "output_type": "error",
     "traceback": [
      "\u001b[1;31m---------------------------------------------------------------------------\u001b[0m",
      "\u001b[1;31mValueError\u001b[0m                                Traceback (most recent call last)",
      "Cell \u001b[1;32mIn[10], line 12\u001b[0m\n\u001b[0;32m     10\u001b[0m     n\u001b[39m=\u001b[39m\u001b[39mint\u001b[39m(f\u001b[39m.\u001b[39mreadline()\u001b[39m.\u001b[39mstrip())\n\u001b[0;32m     11\u001b[0m     price\u001b[39m=\u001b[39m \u001b[39mlist\u001b[39m(\u001b[39mmap\u001b[39m(\u001b[39mint\u001b[39m,f\u001b[39m.\u001b[39mreadline()\u001b[39m.\u001b[39mrstrip()\u001b[39m.\u001b[39msplit()))\n\u001b[1;32m---> 12\u001b[0m result \u001b[39m=\u001b[39m minimumLoss(price)\n\u001b[0;32m     14\u001b[0m fptr\u001b[39m.\u001b[39mwrite(\u001b[39mstr\u001b[39m(result) \u001b[39m+\u001b[39m \u001b[39m'\u001b[39m\u001b[39m\\n\u001b[39;00m\u001b[39m'\u001b[39m)\n\u001b[0;32m     16\u001b[0m fptr\u001b[39m.\u001b[39mclose()\n",
      "Cell \u001b[1;32mIn[9], line 28\u001b[0m, in \u001b[0;36mminimumLoss\u001b[1;34m(price)\u001b[0m\n\u001b[0;32m     25\u001b[0m \u001b[39mfor\u001b[39;00m a, b \u001b[39min\u001b[39;00m pairs:\n\u001b[0;32m     26\u001b[0m     \u001b[39mprint\u001b[39m(\u001b[39m\"\u001b[39m\u001b[39mfor\u001b[39m\u001b[39m\"\u001b[39m,a,b)\n\u001b[1;32m---> 28\u001b[0m \u001b[39mreturn\u001b[39;00m \u001b[39mmin\u001b[39;49m(b[\u001b[39m1\u001b[39;49m] \u001b[39m-\u001b[39;49m a[\u001b[39m1\u001b[39;49m] \u001b[39mfor\u001b[39;49;00m a, b \u001b[39min\u001b[39;49;00m pairs \u001b[39mif\u001b[39;49;00m a[\u001b[39m0\u001b[39;49m] \u001b[39m>\u001b[39;49m b[\u001b[39m0\u001b[39;49m])\n",
      "\u001b[1;31mValueError\u001b[0m: min() arg is an empty sequence"
     ]
    }
   ],
   "source": [
    "os.environ['OUTPUT_PATH'] = 'output.txt'\n",
    "\n",
    "if __name__ == '__main__':\n",
    "    fptr = open(os.environ['OUTPUT_PATH'], 'w')\n",
    "\n",
    "    # n = int(input().strip())\n",
    "    # price = list(map(int, input().rstrip().split()))\n",
    "\n",
    "    with open('input.txt') as f:\n",
    "        n=int(f.readline().strip())\n",
    "        price= list(map(int,f.readline().rstrip().split()))\n",
    "    result = minimumLoss(price)\n",
    "\n",
    "    fptr.write(str(result) + '\\n')\n",
    "\n",
    "    fptr.close()"
   ]
  },
  {
   "cell_type": "code",
   "execution_count": null,
   "metadata": {},
   "outputs": [],
   "source": []
  }
 ],
 "metadata": {
  "kernelspec": {
   "display_name": "base",
   "language": "python",
   "name": "python3"
  },
  "language_info": {
   "codemirror_mode": {
    "name": "ipython",
    "version": 3
   },
   "file_extension": ".py",
   "mimetype": "text/x-python",
   "name": "python",
   "nbconvert_exporter": "python",
   "pygments_lexer": "ipython3",
   "version": "3.9.16"
  },
  "orig_nbformat": 4,
  "vscode": {
   "interpreter": {
    "hash": "f38781705ea4a68e1fdcb177f45b648a55798d4ff7cbc57da71b8f16af52a55a"
   }
  }
 },
 "nbformat": 4,
 "nbformat_minor": 2
}

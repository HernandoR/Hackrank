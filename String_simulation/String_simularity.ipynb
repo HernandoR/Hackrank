{
 "cells": [
  {
   "cell_type": "code",
   "execution_count": 1,
   "metadata": {},
   "outputs": [],
   "source": [
    "#!/bin/python3\n",
    "\n",
    "import math\n",
    "import os\n",
    "import random\n",
    "import re\n",
    "import sys\n",
    "\n",
    "#\n",
    "# Complete the 'morganAndString' function below.\n",
    "#\n",
    "# The function is expected to return a STRING.\n",
    "# The function accepts following parameters:\n",
    "#  1. STRING a\n",
    "#  2. STRING b\n",
    "#\n",
    "from collections import deque\n",
    "\n",
    "def stringSimilarity(s):\n",
    "    # Write your code her\n",
    "    result = length = len(s)\n",
    "    right = 0\n",
    "    left = 0\n",
    "    z = [length]\n",
    "  \n",
    "    for i in range(1, length):\n",
    "        assert i>left,i\n",
    "        z.append(0)\n",
    "        if i <= right:\n",
    "            z[i] = min(right - i + 1, z[i - left])\n",
    "        while i + z[i] < length and s[z[i]] == s[i + z[i]]:\n",
    "            z[i] += 1\n",
    "        if i + z[i] - 1 > right:\n",
    "            left = i\n",
    "            right = i + z[i] - 1\n",
    "        \n",
    "        result += z[i]\n",
    "    \n",
    "    return result"
   ]
  },
  {
   "cell_type": "code",
   "execution_count": 3,
   "metadata": {},
   "outputs": [
    {
     "name": "stdout",
     "output_type": "stream",
     "text": [
      "11\n",
      "3\n"
     ]
    }
   ],
   "source": [
    "\n",
    "import multiprocessing\n",
    "import time\n",
    "\n",
    "\n",
    "# def main():\n",
    "if __name__ == '__main__':\n",
    "    \n",
    "\n",
    "    # fptr = open(os.environ['OUTPUT_PATH'], 'w')\n",
    "    fp=open('input.txt','r')\n",
    "    fptr=open('output.txt','w')\n",
    "\n",
    "    # TODO: this part should be altered manually from hackerrank\n",
    "    # t = int(input().strip())\n",
    "    t=int(fp.readline().strip())\n",
    "\n",
    "    for t_itr in range(t):\n",
    "        s = fp.readline().strip()\n",
    "\n",
    "        result = stringSimilarity(s)\n",
    "\n",
    "        print(result)\n",
    "\n",
    "    # while the rest is fine\n",
    "        fptr.write(str(result) + '\\n')\n",
    "\n",
    "    fptr.close()\n",
    "\n",
    "\n",
    "\n",
    "# if __name__ == '__main__':\n",
    "#     p = multiprocessing.Process(target=main)\n",
    "#     p.start()\n",
    "#     # Wait for 10 seconds or until process finishes\n",
    "#     p.join(10)\n",
    "#     if p.is_alive():\n",
    "#         print('Time out')\n",
    "#         p.terminate()\n",
    "#         p.join()"
   ]
  },
  {
   "cell_type": "code",
   "execution_count": null,
   "metadata": {},
   "outputs": [],
   "source": [
    "# test case\n",
    "with open('ExpectedOutput.txt') as f:\n",
    "    expected_output = f.read().splitlines()\n",
    "\n",
    "with open('output.txt') as f:\n",
    "    output = f.read().splitlines()\n",
    "    \n",
    "PASS=1\n",
    "for i in range(len(expected_output)):\n",
    "    # one should use assert, but since the test case is too long, it is better to print the error\n",
    "    # TODO \n",
    "\n",
    "    PASS=0\n",
    "    # assert expected_output[i] == output[i], f'error at {i+1},\\n expected {expected_output[i]},\\n got {output[i]}'\n",
    "    if expected_output[i] != output[i]:\n",
    "        # check the difference\n",
    "        for j in range(len(expected_output[i])):\n",
    "            if expected_output[i][j] != output[i][j]:\n",
    "                print(f'error at {i+1}, {j+1}')\n",
    "                print(f'expected {expected_output[i][j-10:j+10]}')\n",
    "                print(f'got      {output[i][j-10:j+10]}')\n",
    "                break\n",
    "if PASS:\n",
    "    print('All test cases passed')\n",
    "\n",
    "        "
   ]
  },
  {
   "cell_type": "code",
   "execution_count": null,
   "metadata": {},
   "outputs": [],
   "source": []
  }
 ],
 "metadata": {
  "kernelspec": {
   "display_name": "base",
   "language": "python",
   "name": "python3"
  },
  "language_info": {
   "codemirror_mode": {
    "name": "ipython",
    "version": 3
   },
   "file_extension": ".py",
   "mimetype": "text/x-python",
   "name": "python",
   "nbconvert_exporter": "python",
   "pygments_lexer": "ipython3",
   "version": "3.10.9"
  },
  "orig_nbformat": 4,
  "vscode": {
   "interpreter": {
    "hash": "f38781705ea4a68e1fdcb177f45b648a55798d4ff7cbc57da71b8f16af52a55a"
   }
  }
 },
 "nbformat": 4,
 "nbformat_minor": 2
}

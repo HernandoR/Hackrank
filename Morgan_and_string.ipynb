{
 "cells": [
  {
   "cell_type": "code",
   "execution_count": 14,
   "metadata": {},
   "outputs": [
    {
     "name": "stdout",
     "output_type": "stream",
     "text": [
      "DAJACKNIEL\n",
      "AABABACABACABA\n"
     ]
    }
   ],
   "source": [
    "#!/bin/python3\n",
    "\n",
    "import math\n",
    "import os\n",
    "import random\n",
    "import re\n",
    "import sys\n",
    "\n",
    "#\n",
    "# Complete the 'morganAndString' function below.\n",
    "#\n",
    "# The function is expected to return a STRING.\n",
    "# The function accepts following parameters:\n",
    "#  1. STRING a\n",
    "#  2. STRING b\n",
    "#\n",
    "from collections import deque\n",
    "def morganAndString(a, b):\n",
    "    # Write your code here\n",
    "    \n",
    "    # Version 1\n",
    "    # astr=a\n",
    "    # bstr=b\n",
    "    # a=deque(a)\n",
    "    # b=deque(b)\n",
    "    # ans=''\n",
    "    # while a or b:\n",
    "    #     if not a: ans=''.join([ans,''.join(list(b))]);break\n",
    "    #     if not b: ans=''.join([ans,''.join(list(a))]);break\n",
    "    #     if astr<bstr:\n",
    "    #         ans=''.join([ans,a.popleft()])\n",
    "    #         astr=''.join(list(a))\n",
    "    #     else:\n",
    "    #         ans=''.join([ans,b.popleft()])\n",
    "    #         bstr=''.join(list(b))\n",
    "    # return ans \n",
    "\n",
    "if __name__ == '__main__':\n",
    "    # fptr = open(os.environ['OUTPUT_PATH'], 'w')\n",
    "    fp=open('input.txt','r')\n",
    "    fptr=open('output.txt','w')\n",
    "    # t = int(input().strip())\n",
    "    t=int(fp.readline().strip())\n",
    "\n",
    "    for t_itr in range(t):\n",
    "        # a = input()\n",
    "        a=fp.readline().strip()\n",
    "        b=fp.readline().strip()\n",
    "        # b = input()\n",
    "\n",
    "        result = morganAndString(a, b)\n",
    "        print(result)\n",
    "        fptr.write(result + '\\n')\n",
    "\n",
    "    fptr.close()\n",
    "\n"
   ]
  },
  {
   "cell_type": "code",
   "execution_count": 16,
   "metadata": {},
   "outputs": [],
   "source": [
    "# test case\n",
    "with open('ExpectedOutput.txt') as f:\n",
    "    expected_output = f.read().splitlines()\n",
    "\n",
    "with open('output.txt') as f:\n",
    "    output = f.read().splitlines()\n",
    "\n",
    "for i in range(len(expected_output)):\n",
    "    if expected_output[i] != output[i]:\n",
    "        print('error :')\n",
    "        print(i)\n",
    "        print(expected_output[i])\n",
    "        print(output[i])\n",
    "\n",
    "\n",
    "        "
   ]
  },
  {
   "cell_type": "code",
   "execution_count": null,
   "metadata": {},
   "outputs": [],
   "source": []
  }
 ],
 "metadata": {
  "kernelspec": {
   "display_name": "base",
   "language": "python",
   "name": "python3"
  },
  "language_info": {
   "codemirror_mode": {
    "name": "ipython",
    "version": 3
   },
   "file_extension": ".py",
   "mimetype": "text/x-python",
   "name": "python",
   "nbconvert_exporter": "python",
   "pygments_lexer": "ipython3",
   "version": "3.10.9"
  },
  "orig_nbformat": 4,
  "vscode": {
   "interpreter": {
    "hash": "f38781705ea4a68e1fdcb177f45b648a55798d4ff7cbc57da71b8f16af52a55a"
   }
  }
 },
 "nbformat": 4,
 "nbformat_minor": 2
}
